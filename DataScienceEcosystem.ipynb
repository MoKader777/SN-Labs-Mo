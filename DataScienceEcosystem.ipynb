{
 "cells": [
  {
   "cell_type": "markdown",
   "id": "89f55d51-6d41-43a6-a70f-1fc53874fdd4",
   "metadata": {},
   "source": [
    "# Data Science Tools and Ecosystem"
   ]
  },
  {
   "cell_type": "markdown",
   "id": "94fd014d-5fb1-49d7-9db5-fbac50797cd7",
   "metadata": {
    "tags": []
   },
   "source": [
    "In this notebook, Data Science Tools and Ecosystem are summarized."
   ]
  },
  {
   "cell_type": "markdown",
   "id": "d7da5eac-1538-40c3-8b4b-9727210eb570",
   "metadata": {},
   "source": [
    "**Objectives:**\n",
    "1. Some of the popular languages that Data Science use.\n",
    "2. Some of the commonly used libraries used by Data Scientists.\n",
    "3. Table of Data Science tools.\n",
    "4. A few examples of evaluating arithmetic expressions in Python."
   ]
  },
  {
   "cell_type": "markdown",
   "id": "335e0603-44b4-4cfb-9f8a-edc09581a1e7",
   "metadata": {
    "tags": []
   },
   "source": [
    "**Some of the popular languages that Data Scientists use are:**\n",
    "* Python\n",
    "* R\n",
    "* SQL"
   ]
  },
  {
   "cell_type": "markdown",
   "id": "8d007957-cc92-471d-befe-17708f9bf59d",
   "metadata": {},
   "source": [
    "**Some of the commonly used libraries used by Data Scientists include:**\n",
    "* ggplot\n",
    "* Lattice\n",
    "* leaflet"
   ]
  },
  {
   "cell_type": "markdown",
   "id": "265cb416-f808-442d-8b99-916de58e85c9",
   "metadata": {},
   "source": [
    "| Python             |\n",
    "| ------             |\n",
    "| Visual Studio Code |\n",
    "| Jupyter Notebook   |\n",
    "| Anaconda           |"
   ]
  },
  {
   "cell_type": "markdown",
   "id": "6b827d8f-a7c5-4351-99b4-62baa4950d13",
   "metadata": {},
   "source": [
    "### Below are a few examples of evaluating arithmetic expressions in Python."
   ]
  },
  {
   "cell_type": "code",
   "execution_count": 4,
   "id": "22356ac3-9aac-46ca-a119-dd1765e047a5",
   "metadata": {
    "tags": []
   },
   "outputs": [
    {
     "data": {
      "text/plain": [
       "17"
      ]
     },
     "execution_count": 4,
     "metadata": {},
     "output_type": "execute_result"
    }
   ],
   "source": [
    "# This a simple arithmetic expression to mutiply then add integers.\n",
    "\n",
    "(3*4)+5"
   ]
  },
  {
   "cell_type": "code",
   "execution_count": 5,
   "id": "7f19238d-078f-4335-8f5d-1072f39a299a",
   "metadata": {
    "tags": []
   },
   "outputs": [
    {
     "data": {
      "text/plain": [
       "3.3333333333333335"
      ]
     },
     "execution_count": 5,
     "metadata": {},
     "output_type": "execute_result"
    }
   ],
   "source": [
    "# This will convert 200 minutes to hours by diving by 60.\n",
    "200/60"
   ]
  },
  {
   "cell_type": "markdown",
   "id": "c4795666-61f4-4b72-b6be-c8ecf6ee96b8",
   "metadata": {},
   "source": [
    "## Author\n",
    "Mohamed Abdelkader "
   ]
  },
  {
   "cell_type": "code",
   "execution_count": null,
   "id": "b5509c2c-421f-4a37-92fa-c98854a3e25c",
   "metadata": {},
   "outputs": [],
   "source": []
  }
 ],
 "metadata": {
  "kernelspec": {
   "display_name": "Python",
   "language": "python",
   "name": "conda-env-python-py"
  },
  "language_info": {
   "codemirror_mode": {
    "name": "ipython",
    "version": 3
   },
   "file_extension": ".py",
   "mimetype": "text/x-python",
   "name": "python",
   "nbconvert_exporter": "python",
   "pygments_lexer": "ipython3",
   "version": "3.7.12"
  }
 },
 "nbformat": 4,
 "nbformat_minor": 5
}
